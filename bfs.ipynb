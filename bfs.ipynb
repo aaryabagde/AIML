{
  "nbformat": 4,
  "nbformat_minor": 0,
  "metadata": {
    "colab": {
      "name": "AI ML lab1",
      "provenance": [],
      "authorship_tag": "ABX9TyPvIaS5SIGe4CJW8ae21Krn",
      "include_colab_link": true
    },
    "kernelspec": {
      "name": "python3",
      "display_name": "Python 3"
    },
    "language_info": {
      "name": "python"
    }
  },
  "cells": [
    {
      "cell_type": "markdown",
      "metadata": {
        "id": "view-in-github",
        "colab_type": "text"
      },
      "source": [
        "<a href=\"https://colab.research.google.com/github/aaryabagde/AIML/blob/main/bfs.ipynb\" target=\"_parent\"><img src=\"https://colab.research.google.com/assets/colab-badge.svg\" alt=\"Open In Colab\"/></a>"
      ]
    },
    {
      "cell_type": "code",
      "source": [
        "graph = {\n",
        "  '5' : ['3','8'],\n",
        "  '3' : ['1', '2'],\n",
        "  '8' : ['6','17'],\n",
        "  '1' : [],\n",
        "  '2' : [],\n",
        "  '6' : [],\n",
        "  '17' : []\n",
        "}\n",
        "\n",
        "visited = [] # List to keep track of visited nodes.\n",
        "queue = []     #Initialize a queue\n",
        "\n",
        "def bfs(visited, graph, node):\n",
        "  visited.append(node)\n",
        "  queue.append(node)\n",
        "\n",
        "  while queue:\n",
        "    s = queue.pop(0) \n",
        "    print (s, end = \" \") \n",
        "\n",
        "    for neighbour in graph[s]:\n",
        "      if neighbour not in visited:\n",
        "        visited.append(neighbour)\n",
        "        queue.append(neighbour)\n",
        "\n",
        "# Driver Code\n",
        "bfs(visited, graph, '5')\n",
        "\n"
      ],
      "metadata": {
        "colab": {
          "base_uri": "https://localhost:8080/"
        },
        "id": "1jlLxXTjvuXz",
        "outputId": "a88da032-55c2-4d07-bfdd-cec3d521cb6d"
      },
      "execution_count": null,
      "outputs": [
        {
          "output_type": "stream",
          "name": "stdout",
          "text": [
            "5 3 8 1 2 6 17 "
          ]
        }
      ]
    },
    {
      "cell_type": "code",
      "source": [
        "graph = {\n",
        "  '5' : ['3','8'],\n",
        "  '3' : ['1', '2'],\n",
        "  '8' : ['6','17'],\n",
        "  '1' : [],\n",
        "  '2' : [],\n",
        "  '6' : [],\n",
        "  '17' : []\n",
        "}\n",
        "\n",
        "visited = [] # List to keep track of visited nodes.\n",
        "queue = []     #Initialize a queue\n",
        "num= int(input(\"Enter the number to be searched: \"))\n",
        "\n",
        "def bfs(visited, graph, node):\n",
        "  visited.append(node)\n",
        "  queue.append(node)\n",
        "\n",
        "  while queue:\n",
        "    s = queue.pop(0)\n",
        "    print (s, end = \" \")\n",
        "    if s==num:\n",
        "      break\n",
        "\n",
        "    for neighbour in graph[s]:\n",
        "      if neighbour not in visited:\n",
        "        if neighbour =\n",
        "        visited.append(neighbour)\n",
        "        queue.append(neighbour)\n",
        "\n",
        "# Driver Code\n",
        "bfs(visited, graph, '5')"
      ],
      "metadata": {
        "colab": {
          "base_uri": "https://localhost:8080/"
        },
        "id": "YGjghHqw0r53",
        "outputId": "5d87f3ff-810e-4661-94e5-130931682d14"
      },
      "execution_count": null,
      "outputs": [
        {
          "output_type": "stream",
          "name": "stdout",
          "text": [
            "Enter the number to be searched: 6\n",
            "5 3 8 1 2 6 17 "
          ]
        }
      ]
    },
    {
      "cell_type": "code",
      "source": [
        ""
      ],
      "metadata": {
        "id": "DCh1pWFv4QL7"
      },
      "execution_count": null,
      "outputs": []
    }
  ]
}